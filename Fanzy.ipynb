{
    "metadata": {
        "kernelspec": {
            "name": "SQL",
            "display_name": "SQL",
            "language": "sql"
        },
        "language_info": {
            "name": "sql",
            "version": ""
        }
    },
    "nbformat_minor": 2,
    "nbformat": 4,
    "cells": [
        {
            "cell_type": "markdown",
            "source": [
                "Script til at oprettelse af database myDB:"
            ],
            "metadata": {
                "azdata_cell_guid": "d478e85a-bddc-4492-b695-41a4bc853fce"
            }
        },
        {
            "cell_type": "code",
            "source": [
                "USE master\r\n",
                "GO\r\n",
                "IF NOT EXISTS (\r\n",
                "    SELECT [name]\r\n",
                "        FROM sys.databases\r\n",
                "        WHERE [name] = N'myDB'\r\n",
                ")\r\n",
                "CREATE DATABASE myDB\r\n",
                "GO"
            ],
            "metadata": {
                "azdata_cell_guid": "fe92a2f6-236f-4d1d-9799-3fe12ad1e15b"
            },
            "outputs": [],
            "execution_count": null
        },
        {
            "cell_type": "markdown",
            "source": [
                "Script til oprettelse af tabel Author:"
            ],
            "metadata": {
                "azdata_cell_guid": "d54203dd-ee7c-483a-ba8b-7c710da00fa3"
            }
        },
        {
            "cell_type": "code",
            "source": [
                "USE myDB\r\n",
                "IF OBJECT_ID('[dbo].[Author]', 'U') IS NOT NULL\r\n",
                "DROP TABLE [dbo].[Author]\r\n",
                "GO\r\n",
                "CREATE TABLE [dbo].[Author]\r\n",
                "(\r\n",
                "    [Id] INT IDENTITY(1,1) NOT NULL PRIMARY KEY,\r\n",
                "    [FirstName] NVARCHAR(50) NOT NULL,\r\n",
                "    [LastName] NVARCHAR(50) NOT NULL,\r\n",
                "    [Email] NVARCHAR(50) NOT NULL UNIQUE\r\n",
                ");\r\n",
                "GO"
            ],
            "metadata": {
                "azdata_cell_guid": "e40a3689-b3f5-4a53-a573-dcaac81d64d5"
            },
            "outputs": [],
            "execution_count": null
        },
        {
            "cell_type": "markdown",
            "source": [
                "Script til oprettelse af tabel Category:"
            ],
            "metadata": {
                "azdata_cell_guid": "be2f13ab-760b-4970-bee9-5c0b0bddbbab"
            }
        },
        {
            "cell_type": "code",
            "source": [
                "Use myDB\r\n",
                "IF OBJECT_ID('[dbo].[Category]', 'U') IS NOT NULL\r\n",
                "DROP TABLE [dbo].[Category]\r\n",
                "GO\r\n",
                "CREATE TABLE [dbo].[Category]\r\n",
                "(\r\n",
                "    [Id] INT IDENTITY(1,1) NOT NULL PRIMARY KEY,\r\n",
                "    [CategoryName] NVARCHAR(50)\r\n",
                ");\r\n",
                "GO"
            ],
            "metadata": {
                "azdata_cell_guid": "49c567ac-7953-4722-bd7e-e674d1b24bdc"
            },
            "outputs": [],
            "execution_count": null
        },
        {
            "cell_type": "markdown",
            "source": [
                "Script til oprettelse af tabel Book:"
            ],
            "metadata": {
                "azdata_cell_guid": "fdfe1949-ba1c-4977-8db8-b69d166feb30"
            }
        },
        {
            "cell_type": "code",
            "source": [
                "USE myDB\r\n",
                "IF OBJECT_ID('[dbo].[Book]', 'U') IS NOT NULL\r\n",
                "DROP TABLE [dbo].[Book]\r\n",
                "GO\r\n",
                "CREATE TABLE [dbo].[Book]\r\n",
                "(\r\n",
                "    [Id] INT IDENTITY(1,1) NOT NULL PRIMARY KEY,\r\n",
                "    [Title] NVARCHAR(50) NOT NULL,\r\n",
                "    [Summary] NVARCHAR(200),\r\n",
                "    [Price] FLOAT,\r\n",
                "    [ISBN] BIGINT NOT NULL UNIQUE\r\n",
                ");\r\n",
                "GO"
            ],
            "metadata": {
                "azdata_cell_guid": "f200ec9e-742b-4acf-974f-2fc1bdde5005",
                "tags": []
            },
            "outputs": [],
            "execution_count": null
        },
        {
            "cell_type": "markdown",
            "source": [
                "Script til oprettelse af join tabellen Author\\_Book:"
            ],
            "metadata": {
                "azdata_cell_guid": "b6b0bfa1-afd1-42ad-ad4a-4f7428495c28"
            }
        },
        {
            "cell_type": "code",
            "source": [
                "Use myDB\r\n",
                "IF OBJECT_ID('[dbo].[Author_Book]', 'U') IS NOT NULL\r\n",
                "DROP TABLE [dbo].[Author_Book]\r\n",
                "GO\r\n",
                "CREATE TABLE [dbo].[Author_Book]\r\n",
                "(\r\n",
                "    [Author] INT FOREIGN KEY REFERENCES Author(Id) NOT NULL,\r\n",
                "    [Book] INT FOREIGN KEY REFERENCES Book(Id) NOT NULL,\n",
                "    PRIMARY KEY (Author,Book)\r\n",
                ");\r\n",
                "GO"
            ],
            "metadata": {
                "azdata_cell_guid": "e41892b4-0dc7-448e-8be3-c95e54f9add8"
            },
            "outputs": [
{
    "output_type": "display_data",
    "data": {
        "text/html": "Commands completed successfully."
    },
    "metadata": {}
}, {
    "output_type": "display_data",
    "data": {
        "text/html": "Commands completed successfully."
    },
    "metadata": {}
}, {
    "output_type": "display_data",
    "data": {
        "text/html": "Total execution time: 00:00:00.011"
    },
    "metadata": {}
}
],
            "execution_count": null
        },
        {
            "cell_type": "markdown",
            "source": [
                "Script til oprettelse af join tabellen Book\\_Category:"
            ],
            "metadata": {
                "azdata_cell_guid": "5188bae7-6ab7-4854-b5a5-bae784db9c84"
            }
        },
        {
            "cell_type": "code",
            "source": [
                "Use myDB\r\n",
                "IF OBJECT_ID('[dbo].[Book_Category]', 'U') IS NOT NULL\r\n",
                "DROP TABLE [dbo].[Book_Category]\r\n",
                "GO\r\n",
                "CREATE TABLE [dbo].[Book_Category]\r\n",
                "(\r\n",
                "    [Book] INT FOREIGN KEY REFERENCES Book(Id) NOT NULL,\r\n",
                "    [Category] INT FOREIGN KEY REFERENCES Category(Id) NOT NULL,\n",
                "    PRIMARY KEY (Book,Category)\r\n",
                ");\r\n",
                "GO"
            ],
            "metadata": {
                "azdata_cell_guid": "c3ec1801-c33c-488c-8a7d-c9373b27ccc7"
            },
            "outputs": [
{
    "output_type": "display_data",
    "data": {
        "text/html": "Commands completed successfully."
    },
    "metadata": {}
}, {
    "output_type": "display_data",
    "data": {
        "text/html": "Commands completed successfully."
    },
    "metadata": {}
}, {
    "output_type": "display_data",
    "data": {
        "text/html": "Total execution time: 00:00:00.007"
    },
    "metadata": {}
}
],
            "execution_count": null
        },
        {
            "cell_type": "markdown",
            "source": [
                "Script til indsættelse af fiktiv data, tabellen Author:"
            ],
            "metadata": {
                "azdata_cell_guid": "ddc614c6-7bbc-42b8-bc31-4f9372794969"
            }
        },
        {
            "cell_type": "code",
            "source": [
                "INSERT INTO [dbo].[Author]\r\n",
                "(\r\n",
                " [FirstName], [LastName], [Email]\r\n",
                ")\r\n",
                "VALUES\r\n",
                "('Hans Christjan','Andersen','hca@fanzy.dk'),\r\n",
                "('Astrid','Lundgren','al@fanzy.dk'),\r\n",
                "('Cecilie','Bødker','cb@fanzy.dk'),\r\n",
                "('Caren','Blixen','id@fanzy.dk'),\r\n",
                "('Dennis','Jørgensen','dj@fanzy.dk'),\r\n",
                "('Tove','Ditlewsen','td@fanzy.dk'),\r\n",
                "('Søren','Kirkegaard','sk@fanzy.dk'),\r\n",
                "('Johan V.','Jensen','jvj@fanzy.dk'),\r\n",
                "('Claus','Rifbjerg','cr@fanzy.dk'),\r\n",
                "('Bjørn','Reuter','br@fanzy.dk')\r\n",
                "GO"
            ],
            "metadata": {
                "azdata_cell_guid": "ccc756e0-ae32-45d3-8d71-9b1356258a9f"
            },
            "outputs": [],
            "execution_count": null
        },
        {
            "cell_type": "markdown",
            "source": [
                "Script til indsættelse af fiktiv data, tabellen Category:"
            ],
            "metadata": {
                "azdata_cell_guid": "f6186704-7bde-4799-af62-3595a95ef914"
            }
        },
        {
            "cell_type": "code",
            "source": [
                "INSERT INTO [dbo].[Category]\r\n",
                "(\r\n",
                " [CategoryName]\r\n",
                ")\r\n",
                "VALUES\r\n",
                "('Mad'),\r\n",
                "('Mode'),\r\n",
                "('Sci-Fi'),\r\n",
                "('Børnebog')\r\n",
                "GO"
            ],
            "metadata": {
                "azdata_cell_guid": "73636905-1648-4116-a6fd-b4c5d41e84f5"
            },
            "outputs": [],
            "execution_count": null
        },
        {
            "cell_type": "markdown",
            "source": [
                "Script til indsættelse af fiktiv data, tabellen Book:"
            ],
            "metadata": {
                "azdata_cell_guid": "deae0792-eb24-45dd-99f2-3ca029d99958"
            }
        },
        {
            "cell_type": "code",
            "source": [
                "INSERT INTO [dbo].[Book]\r\n",
                "(\r\n",
                " [Title], [Summary], [Price], [ISBN]\r\n",
                ")\r\n",
                "VALUES\r\n",
                "(\r\n",
                " 'Lækre desserter','',199,9785128726353\r\n",
                "),\r\n",
                "(\r\n",
                " 'Den blå traktor','',149,9788832539011\r\n",
                "),\r\n",
                "(\r\n",
                " 'Uldstrik','',399,9785032410386\r\n",
                "),\r\n",
                "(\r\n",
                " 'Robotter og tærter','',449,9780576360753\r\n",
                "),\r\n",
                "(\r\n",
                " 'Den lille marsmand','',139,9785396962163\r\n",
                "),\r\n",
                "(\r\n",
                " 'Karper og kapper','',529,9788649846258\r\n",
                "),\r\n",
                "(\r\n",
                " 'Fantastiske håndklæder','',679,9786505878191\r\n",
                "),\r\n",
                "(\r\n",
                " 'Er alle hunde grønne?','',229,9780465242023\r\n",
                "),\r\n",
                "(\r\n",
                " 'Kontrabassisten','',349,9780817584542\r\n",
                "),\r\n",
                "(\r\n",
                " 'En jakke, to jakker...','',389,9788215154725\r\n",
                "),\r\n",
                "(\r\n",
                " 'Sommerhusstil','',299,9782237320427\r\n",
                "),\r\n",
                "(\r\n",
                " 'Retter med skvadderkål','',179,9788651674870\r\n",
                "),\r\n",
                "(\r\n",
                " 'Den musikalske kat','',349,9780800214333\r\n",
                "),\r\n",
                "(\r\n",
                " 'Forårsløg','',129,9782549402262\r\n",
                "),\r\n",
                "(\r\n",
                " 'Farver og striber','',469,9787695633812\r\n",
                ")\r\n",
                "GO"
            ],
            "metadata": {
                "azdata_cell_guid": "db6ba27f-9fdc-4471-abe5-5f6c1c3736cd",
                "tags": []
            },
            "outputs": [],
            "execution_count": null
        },
        {
            "cell_type": "markdown",
            "source": [
                "Script til indsættelse af fiktiv data, tabellen Author\\_Book:"
            ],
            "metadata": {
                "azdata_cell_guid": "05fcf5f8-1df3-44f6-9e66-b9df092d2d2e"
            }
        },
        {
            "cell_type": "code",
            "source": [
                "INSERT INTO [dbo].[Author_Book]\r\n",
                "(\r\n",
                " [Author],[Book]\r\n",
                ")\r\n",
                "VALUES\r\n",
                "(8,1),\r\n",
                "(3,2),\r\n",
                "(7,3),\r\n",
                "(4,3),\r\n",
                "(6,4),\r\n",
                "(5,5),\r\n",
                "(9,6),\r\n",
                "(1,7),\r\n",
                "(10,8),\r\n",
                "(4,8),\r\n",
                "(6,9),\r\n",
                "(2,9),\r\n",
                "(3,10),\r\n",
                "(1,11),\r\n",
                "(5,11),\r\n",
                "(10,12),\r\n",
                "(9,13),\r\n",
                "(8,14),\r\n",
                "(5,15),\r\n",
                "(3,15)\r\n",
                "GO"
            ],
            "metadata": {
                "azdata_cell_guid": "6fed5e43-6102-47ee-9964-b01d181bfe2b"
            },
            "outputs": [
{
    "output_type": "display_data",
    "data": {
        "text/html": "(20 rows affected)"
    },
    "metadata": {}
}, {
    "output_type": "display_data",
    "data": {
        "text/html": "Total execution time: 00:00:00.007"
    },
    "metadata": {}
}
],
            "execution_count": null
        },
        {
            "cell_type": "markdown",
            "source": [
                "Script til indsættelse af fiktiv data, tabellen Book\\_Category:"
            ],
            "metadata": {
                "azdata_cell_guid": "dcdc5911-bf02-4c33-9e94-b9aae96c7e0f"
            }
        },
        {
            "cell_type": "code",
            "source": [
                "INSERT INTO [dbo].[Book_Category]\r\n",
                "(\r\n",
                " [Category],[Book]\r\n",
                ")\r\n",
                "VALUES\r\n",
                "(1,1),\r\n",
                "(4,2),\r\n",
                "(2,3),\r\n",
                "(1,4),\r\n",
                "(3,4),\r\n",
                "(3,5),\r\n",
                "(4,5),\r\n",
                "(1,6),\r\n",
                "(2,6),\r\n",
                "(2,7),\r\n",
                "(1,8),\r\n",
                "(4,8),\r\n",
                "(4,9),\r\n",
                "(2,10),\r\n",
                "(4,10),\r\n",
                "(2,11),\r\n",
                "(1,12),\r\n",
                "(4,13),\r\n",
                "(1,14),\r\n",
                "(2,15)\r\n",
                "GO"
            ],
            "metadata": {
                "azdata_cell_guid": "d9459f7b-71f9-4689-8cdc-b0eb9e9dec1a"
            },
            "outputs": [
{
    "output_type": "display_data",
    "data": {
        "text/html": "(20 rows affected)"
    },
    "metadata": {}
}, {
    "output_type": "display_data",
    "data": {
        "text/html": "Total execution time: 00:00:00.012"
    },
    "metadata": {}
}
],
            "execution_count": null
        },
        {
            "cell_type": "markdown",
            "source": [
                "Script til visning af forfatter(e) til en bog med en given titel:"
            ],
            "metadata": {
                "azdata_cell_guid": "7072a943-233e-4ae5-bb6b-1d7d904d79d2"
            }
        },
        {
            "cell_type": "code",
            "source": [
                "SELECT Author.FirstName,Author.LastName\r\n",
                "FROM Author_Book as ab\r\n",
                "INNER JOIN Author ON Author.Id = ab.Author\r\n",
                "INNER JOIN Book ON Book.Id = ab.Book\r\n",
                "WHERE Book.Title = 'Uldstrik'"
            ],
            "metadata": {
                "azdata_cell_guid": "505345da-e5be-48ff-9aa2-8a7b5f514651"
            },
            "outputs": [
{
    "output_type": "display_data",
    "data": {
        "text/html": "(2 rows affected)"
    },
    "metadata": {}
}, {
    "output_type": "display_data",
    "data": {
        "text/html": "Total execution time: 00:00:00.020"
    },
    "metadata": {}
}, {
    "output_type": "execute_result",
    "metadata": {},
    "execution_count": 14,
    "data": {
        "application/vnd.dataresource+json": {
            "schema": {
                "fields": [
                    {
                        "name": "FirstName"
                    },
                    {
                        "name": "LastName"
                    }
                ]
            },
            "data": [
                {
                    "0": "Caren",
                    "1": "Blixen"
                },
                {
                    "0": "Søren",
                    "1": "Kirkegaard"
                }
            ]
        },
        "text/html": [
            "<table>",
            "<tr><th>FirstName</th><th>LastName</th></tr>",
            "<tr><td>Caren</td><td>Blixen</td></tr>",
            "<tr><td>Søren</td><td>Kirkegaard</td></tr>",
            "</table>"
        ]
    }
}
],
            "execution_count": null
        },
        {
            "cell_type": "markdown",
            "source": [
                "Script til visning af bøger skrevet af en given forfatter:"
            ],
            "metadata": {
                "azdata_cell_guid": "24a72090-4110-4c73-8e65-25c4f4d390c4"
            }
        },
        {
            "cell_type": "code",
            "source": [
                "SELECT Book.Title\r\n",
                "FROM Author_Book as ab\r\n",
                "INNER JOIN Author ON Author.Id = ab.Author\r\n",
                "INNER JOIN Book ON Book.Id = ab.Book\r\n",
                "WHERE Author.FirstName = 'Bjørn'"
            ],
            "metadata": {
                "azdata_cell_guid": "288f9e89-9fde-4de6-b9d6-cc54664b96cd"
            },
            "outputs": [],
            "execution_count": null
        },
        {
            "cell_type": "markdown",
            "source": [
                "Script til visning af kategorien for en given bog:"
            ],
            "metadata": {
                "azdata_cell_guid": "3a79161e-fa0a-4241-b909-5b0a3b600249"
            }
        },
        {
            "cell_type": "code",
            "source": [
                "SELECT Category.CategoryName\r\n",
                "FROM Book_Category as bc\r\n",
                "INNER JOIN Category ON Category.Id = bc.Category\r\n",
                "INNER JOIN Book ON Book.Id = bc.Book\r\n",
                "WHERE Book.Title = 'Uldstrik'"
            ],
            "metadata": {
                "azdata_cell_guid": "ff572a43-8988-4b9f-ae92-de5075901eef"
            },
            "outputs": [
{
    "output_type": "display_data",
    "data": {
        "text/html": "(1 row affected)"
    },
    "metadata": {}
}, {
    "output_type": "display_data",
    "data": {
        "text/html": "Total execution time: 00:00:00.019"
    },
    "metadata": {}
}, {
    "output_type": "execute_result",
    "metadata": {},
    "execution_count": 6,
    "data": {
        "application/vnd.dataresource+json": {
            "schema": {
                "fields": [
                    {
                        "name": "CategoryName"
                    }
                ]
            },
            "data": [
                {
                    "0": "Mode"
                }
            ]
        },
        "text/html": [
            "<table>",
            "<tr><th>CategoryName</th></tr>",
            "<tr><td>Mode</td></tr>",
            "</table>"
        ]
    }
}
],
            "execution_count": null
        },
        {
            "cell_type": "markdown",
            "source": [
                "Script til visning af bøgerne i en given kategori:"
            ],
            "metadata": {
                "azdata_cell_guid": "65ad0e1f-b1ca-41bc-9216-9c2e7974eaeb"
            }
        },
        {
            "cell_type": "code",
            "source": [
                "SELECT Book.Title\r\n",
                "FROM Book_Category as bc\r\n",
                "INNER JOIN Category ON Category.Id = bc.Category\r\n",
                "INNER JOIN Book ON Book.Id = bc.Book\r\n",
                "WHERE Category.CategoryName = 'Mad'"
            ],
            "metadata": {
                "azdata_cell_guid": "d22395bb-df88-4da1-aa57-27e2bcc345ec"
            },
            "outputs": [],
            "execution_count": null
        },
        {
            "cell_type": "markdown",
            "source": [
                "Script til visning af forfatterne for en given kategori:"
            ],
            "metadata": {
                "azdata_cell_guid": "5019ff67-b499-4ca0-82bd-db26b6ba92fd"
            }
        },
        {
            "cell_type": "code",
            "source": [
                "SELECT Author.FirstName,Author.LastName\r\n",
                "FROM Book_Category as bc\r\n",
                "INNER JOIN Category ON Category.Id = bc.Category\r\n",
                "INNER JOIN Book ON Book.Id = bc.Book\r\n",
                "INNER JOIN Author_Book as ab ON Book.Id = ab.Book\r\n",
                "INNER JOIN Author ON Author.Id = ab.Author\r\n",
                "WHERE Category.CategoryName = 'Mad'"
            ],
            "metadata": {
                "azdata_cell_guid": "dfdefec7-0198-4e88-bcf9-3ad760c9e595"
            },
            "outputs": [],
            "execution_count": null
        },
        {
            "cell_type": "markdown",
            "source": [
                "Script til visning af kategorierne for en given forfatter:"
            ],
            "metadata": {
                "azdata_cell_guid": "f58541f3-8ce6-4045-b658-0ba512610ca7"
            }
        },
        {
            "cell_type": "code",
            "source": [
                "SELECT DISTINCT Category.CategoryName\r\n",
                "FROM Book_Category as bc\r\n",
                "INNER JOIN Category ON Category.Id = bc.Category\r\n",
                "INNER JOIN Book ON Book.Id = bc.Book\r\n",
                "INNER JOIN Author_Book as ab ON Book.Id = ab.Book\r\n",
                "INNER JOIN Author ON Author.Id = ab.Author\r\n",
                "WHERE Author.FirstName = 'Cecilie'"
            ],
            "metadata": {
                "azdata_cell_guid": "54b1ef29-8d43-46b7-87bf-46a3ab3a0940"
            },
            "outputs": [],
            "execution_count": null
        }
    ]
}